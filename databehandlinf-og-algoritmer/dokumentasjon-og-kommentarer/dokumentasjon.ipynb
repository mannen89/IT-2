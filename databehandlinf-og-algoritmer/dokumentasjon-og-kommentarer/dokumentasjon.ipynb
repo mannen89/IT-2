{
 "cells": [
  {
   "cell_type": "code",
   "execution_count": 1,
   "metadata": {},
   "outputs": [
    {
     "name": "stdout",
     "output_type": "stream",
     "text": [
      "hallo\n"
     ]
    }
   ],
   "source": [
    "print(\"hallo\")"
   ]
  },
  {
   "cell_type": "markdown",
   "metadata": {},
   "source": [
    "# dokumentasjon og kommentarer\n",
    "\n",
    "## Plan\n",
    "\n",
    "1. Hvorfor kommentere/ dokumentere \n",
    "2. kommentarer vs dokumentasjon\n",
    "3. kommentarer\n",
    "   1. Hvordan?\n",
    "   2. trenger vi egnentlig kommentarer?\n",
    "4. Type hinting\n",
    "5. Docstrings\n",
    "\n",
    "## Oppgaver\n",
    "\n",
    "3.17 - 3.20 på it2.thorcc.no\n"
   ]
  },
  {
   "cell_type": "markdown",
   "metadata": {},
   "source": [
    "## Hvorfor kommentere/dokumentere kode?\n",
    "\n",
    "\"Code is more often read than written\" - Guido von Rossum (skaperen av python)\n",
    "\n"
   ]
  },
  {
   "cell_type": "markdown",
   "metadata": {},
   "source": [
    "## Kommentarer"
   ]
  },
  {
   "cell_type": "code",
   "execution_count": null,
   "metadata": {},
   "outputs": [],
   "source": [
    "# kommentarer i python lages med #\n",
    "\"\"\"dette er også en kommentar\"\"\"\n",
    "\"\"\"kommentarer med tre anførselstegn\n",
    "kan gå over flere linjer\"\"\"\n",
    "\n",
    "# I følge Pythons stilguide (PEP 8) En kommentar skal ikke være lenger enn 72 tegn,\n",
    "# hvis en kommentar er lengre enn 72 tegn legger vi på et linjeskift.\n",
    "# Det er vanlig å bruke hashtags selv om vi har lange kommentarer som går over flere \n",
    "# linjer"
   ]
  },
  {
   "cell_type": "code",
   "execution_count": null,
   "metadata": {},
   "outputs": [],
   "source": [
    "def ta_på_regntøy(vær):\n",
    "    # skjekker om vær er regn\n",
    "    if vær == \"regn\":\n",
    "        # returner True hvis været er regn\n",
    "        return True\n",
    "    else:\n",
    "        # returnerer False hvis været er regn\n",
    "        return False"
   ]
  },
  {
   "cell_type": "code",
   "execution_count": null,
   "metadata": {},
   "outputs": [],
   "source": [
    "# 2. Hva gjør koden?\n",
    "# TODO svar på oppgave 2 her\n",
    " \n",
    "# 3. Legg på kommentarer slik at koden blir forståelig for andre\n",
    "a = float(\"Grunnlinje (cm): \")\n",
    "b = float(\"Høyde (cm): \")\n",
    " \n",
    "c = a*b/2\n",
    "print(f\"Arealet er {c} cm^2\")\n",
    " \n",
    "## ------\n",
    "# 4. Fjern alle kommentarer og endre koden slik at den blir enklere å forstå\n",
    "# 5. Se over koden og legg på eventuelle nødvendige kommentarer\n",
    " \n",
    "# TODO Lim inn koden på nytt her"
   ]
  },
  {
   "cell_type": "code",
   "execution_count": null,
   "metadata": {},
   "outputs": [],
   "source": [
    "# 2. Teller hvor mange det er av hver nasjonalitet og printer antall britisk og spansk\n",
    "# TODO svar på oppgave 2 her\n",
    " \n",
    "# 3. Liste over F1 førere\n",
    "f1 = [\n",
    "    {\"navn\": \"Max Verstappen\", \"nasjonalitet\": \"nederlandsk\", \"team\": \"Red Bull Racing\", \"bilnummer\": 1},\n",
    "    {\"navn\": \"Sergio Perez\", \"nasjonalitet\": \"meksikansk\", \"team\": \"Red Bull Racing\", \"bilnummer\": 11},\n",
    "    {\"navn\": \"Lewis Hamilton\", \"nasjonalitet\": \"britisk\", \"team\": \"Mercedes\", \"bilnummer\": 44},\n",
    "    {\"navn\": \"George Russell\", \"nasjonalitet\": \"britisk\", \"team\": \"Mercedes\", \"bilnummer\": 63},\n",
    "    {\"navn\": \"Charles Leclerc\", \"nasjonalitet\": \"monegaskisk\", \"team\": \"Ferrari\", \"bilnummer\": 16},\n",
    "    {\"navn\": \"Kevin Magnussen\", \"nasjonalitet\": \"dansk\", \"team\": \"Haas F1 Team\", \"bilnummer\": 20},\n",
    "    {\"navn\": \"Nico Hulkenberg\", \"nasjonalitet\": \"tysk\", \"team\": \"Haas F1 Team\", \"bilnummer\": 27}\n",
    "]\n",
    " \n",
    "antall = {}\n",
    " \n",
    "for s in f1:         \n",
    "  if s['nasjonalitet'] not in antall:\n",
    "    antall[s['nasjonalitet']] = 1\n",
    "  else:\n",
    "    antall[s['nasjonalitet']] += 1\n",
    " \n",
    "print(antall[\"britisk\"])\n",
    "print(antall[\"spansk\"])\n",
    " \n",
    "## ------\n",
    "# 4. Fjern alle kommentarer og endre koden slik at den blir enklere å forstå\n",
    "# 5. Se over koden, og legg på eventuelle kommentarer\n",
    " \n",
    "# TODO Lim inn koden på nytt under her, og endre koden:\n",
    " "
   ]
  },
  {
   "cell_type": "code",
   "execution_count": null,
   "metadata": {},
   "outputs": [],
   "source": [
    "# Type hunting\n",
    "\n",
    "def areal_trekant(grunnlinje, høyde):\n",
    "    return grunnlinje * høyde / 2\n",
    "\n",
    "areal_trekant(10, 5)\n",
    "areal_trekant()"
   ]
  }
 ],
 "metadata": {
  "kernelspec": {
   "display_name": "Python 3",
   "language": "python",
   "name": "python3"
  },
  "language_info": {
   "codemirror_mode": {
    "name": "ipython",
    "version": 3
   },
   "file_extension": ".py",
   "mimetype": "text/x-python",
   "name": "python",
   "nbconvert_exporter": "python",
   "pygments_lexer": "ipython3",
   "version": "3.11.1"
  }
 },
 "nbformat": 4,
 "nbformat_minor": 2
}
