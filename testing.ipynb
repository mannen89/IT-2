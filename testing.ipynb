{
 "cells": [
  {
   "cell_type": "code",
   "execution_count": 1,
   "metadata": {},
   "outputs": [
    {
     "name": "stdout",
     "output_type": "stream",
     "text": [
      "fornavn: Ada\n",
      "etternavn: Hegerberg\n",
      "alder: 26\n",
      "klubb: Lyon\n"
     ]
    }
   ],
   "source": [
    "fotballspiller = {\n",
    "    \"fornavn\": \"Ada\",\n",
    "    \"etternavn\": \"Hegerberg\",\n",
    "    \"alder\": 26,\n",
    "    \"klubb\": \"Lyon\"\n",
    "}\n",
    "for nøkkel in fotballspiller:\n",
    "    print(f\"{nøkkel}: {fotballspiller[nøkkel]}\")"
   ]
  }
 ],
 "metadata": {
  "kernelspec": {
   "display_name": "Python 3",
   "language": "python",
   "name": "python3"
  },
  "language_info": {
   "codemirror_mode": {
    "name": "ipython",
    "version": 3
   },
   "file_extension": ".py",
   "mimetype": "text/x-python",
   "name": "python",
   "nbconvert_exporter": "python",
   "pygments_lexer": "ipython3",
   "version": "3.11.1"
  }
 },
 "nbformat": 4,
 "nbformat_minor": 2
}
